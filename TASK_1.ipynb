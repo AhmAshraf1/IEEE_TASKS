{
 "cells": [
  {
   "cell_type": "markdown",
   "metadata": {
    "id": "5tiqkSxGtqRH"
   },
   "source": [
    "# Task_1"
   ]
  },
  {
   "cell_type": "markdown",
   "metadata": {
    "id": "YWgp6TQynE42"
   },
   "source": [
    "# <font color='red'> 1) Mark down all the Valid boolean expression in python: </font>\n",
    "\n",
    "#### A) n > 100 and < 500\n",
    "#### B) n > 100 and n < 500\n",
    "#### C) 100 < n < 500\n"
   ]
  },
  {
   "cell_type": "code",
   "execution_count": null,
   "metadata": {
    "colab": {
     "base_uri": "https://localhost:8080/"
    },
    "executionInfo": {
     "elapsed": 404,
     "status": "ok",
     "timestamp": 1688550081490,
     "user": {
      "displayName": "Ahmed Ashraf",
      "userId": "01872334121619413949"
     },
     "user_tz": -180
    },
    "id": "3xBB-JLJuJ-8",
    "outputId": "927a9fd6-0f38-4b2e-ac6d-82cd27d716b8",
    "is_executing": true
   },
   "outputs": [],
   "source": [
    "# n > 100 and < 500\n",
    "n > 100 and n < 500\n",
    "100 < n < 500"
   ]
  },
  {
   "cell_type": "code",
   "execution_count": null,
   "metadata": {
    "id": "WaBM7Ua0l96Z",
    "is_executing": true
   },
   "outputs": [],
   "source": [
    "A = False #@param {type:\"boolean\"}\n",
    "B = True #@param {type:\"boolean\"}\n",
    "C = True #@param {type:\"boolean\"}\n"
   ]
  },
  {
   "cell_type": "markdown",
   "metadata": {
    "id": "rzaw1bLYjps-"
   },
   "source": [
    "\n",
    "# <font color='red'> 2) Fill the gaps to get the ouput as in the example below:\n",
    "##### (For any string greater than 3 characters)\n",
    "#### **Input**: \"globalization\"\n",
    "#### **Output**: g11n\n",
    "#### **\n",
    "#### **Input**: \"subjective\"\n",
    "#### **Output**: s8e\n",
    "#### **\n",
    "\n",
    "### YOUR CODE:\n",
    "<font color='brown'> **s = input()**\n",
    "<br> **print(... + ... + ...)**\n"
   ]
  },
  {
   "cell_type": "code",
   "execution_count": null,
   "metadata": {
    "colab": {
     "base_uri": "https://localhost:8080/"
    },
    "executionInfo": {
     "elapsed": 8791,
     "status": "ok",
     "timestamp": 1683736835673,
     "user": {
      "displayName": "Ahmed Ashraf",
      "userId": "01872334121619413949"
     },
     "user_tz": -180
    },
    "id": "HgAM8xvtnEbf",
    "outputId": "8150500e-4b99-47bc-d458-24e7a2d26c33",
    "is_executing": true
   },
   "outputs": [],
   "source": [
    "s = input()\n",
    "print(s[0] + str((len(s) - 2)) + s[(len(s))-1])    #concatenation"
   ]
  },
  {
   "cell_type": "markdown",
   "metadata": {
    "id": "S-tbOKj-lkek"
   },
   "source": [
    "# <font color='red'> 3) Create a tuple of 10 elements and then multiply each element of the tuple by 2 & save the results in a list"
   ]
  },
  {
   "cell_type": "code",
   "execution_count": null,
   "metadata": {
    "colab": {
     "base_uri": "https://localhost:8080/"
    },
    "executionInfo": {
     "elapsed": 354,
     "status": "ok",
     "timestamp": 1687036530360,
     "user": {
      "displayName": "Ahmed Ashraf",
      "userId": "01872334121619413949"
     },
     "user_tz": -180
    },
    "id": "B49aQLyil_gC",
    "outputId": "98b1996a-4930-48a4-d0fb-021c5b140c33"
   },
   "outputs": [
    {
     "name": "stdout",
     "output_type": "stream",
     "text": [
      "[0, 2, 4, 6, 8, 10, 12, 14, 16, 18]\n"
     ]
    }
   ],
   "source": [
    "tup = (0,1,2,3,4,5,6,7,8,9)\n",
    "ls = list()\n",
    "for i in tup:\n",
    "  i = i*2\n",
    "  ls.append(i)\n",
    "print(ls)"
   ]
  },
  {
   "cell_type": "code",
   "execution_count": null,
   "metadata": {
    "colab": {
     "base_uri": "https://localhost:8080/"
    },
    "executionInfo": {
     "elapsed": 716,
     "status": "ok",
     "timestamp": 1688549916042,
     "user": {
      "displayName": "Ahmed Ashraf",
      "userId": "01872334121619413949"
     },
     "user_tz": -180
    },
    "id": "h9HJeH03ad5w",
    "outputId": "2448c7c8-0979-4f53-e6e8-6da73fe43a81"
   },
   "outputs": [
    {
     "name": "stdout",
     "output_type": "stream",
     "text": [
      "[0, 2, 4, 6, 8, 10, 12, 14, 16, 18]\n"
     ]
    }
   ],
   "source": [
    "# another solution using list comprehension\n",
    "tup = (0,1,2,3,4,5,6,7,8,9)\n",
    "ls = [i*2 for i in tup]\n",
    "print(ls)"
   ]
  },
  {
   "cell_type": "markdown",
   "metadata": {
    "id": "LCdj2MzVp_7v"
   },
   "source": [
    "# <font color='red'> 4) Reverse the string 'Mansoura' using slicing"
   ]
  },
  {
   "cell_type": "code",
   "execution_count": null,
   "metadata": {
    "colab": {
     "base_uri": "https://localhost:8080/"
    },
    "executionInfo": {
     "elapsed": 470,
     "status": "ok",
     "timestamp": 1687034577974,
     "user": {
      "displayName": "Ahmed Ashraf",
      "userId": "01872334121619413949"
     },
     "user_tz": -180
    },
    "id": "SubUk05Cs_k6",
    "outputId": "d2fb52bd-cc70-46ab-abd6-737ec8934982"
   },
   "outputs": [
    {
     "name": "stdout",
     "output_type": "stream",
     "text": [
      "aruosnaM\n"
     ]
    }
   ],
   "source": [
    "s = \"Mansoura\"\n",
    "print(s[::-1])\n",
    "# or  s[-1::-1]"
   ]
  },
  {
   "cell_type": "markdown",
   "metadata": {
    "id": "XF8kQVzzsD6t"
   },
   "source": [
    "# <font color='red'> 5) Use List Comprehension to create a list of the first letters of ever-y word in the string below:\n",
    "\n",
    "* st = 'Friendship is the tree of its seeds tender'"
   ]
  },
  {
   "cell_type": "code",
   "execution_count": 2,
   "metadata": {
    "colab": {
     "base_uri": "https://localhost:8080/"
    },
    "executionInfo": {
     "elapsed": 6,
     "status": "ok",
     "timestamp": 1689169101930,
     "user": {
      "displayName": "Ahmed Ashraf",
      "userId": "01872334121619413949"
     },
     "user_tz": -180
    },
    "id": "4BaX05QQtA7f",
    "outputId": "f3f65204-cd65-4445-e07c-e7c9162ea2af"
   },
   "outputs": [
    {
     "output_type": "stream",
     "name": "stdout",
     "text": [
      "['F', 'i', 't', 't', 'o', 'i', 's', 't']\n"
     ]
    }
   ],
   "source": [
    "st = 'Friendship is the tree of its seeds tender'\n",
    "words = st.split()\n",
    "f_letters = [word[0] for word in words]\n",
    "print(f_letters)\n"
   ]
  },
  {
   "cell_type": "markdown",
   "metadata": {
    "id": "GQo7e9YPmlQ0"
   },
   "source": [
    "# <font color='cyan'> BONUS <font color='red'> 6) Create a class called car that include some valriables like :\n",
    "* name\n",
    "* color\n",
    "* age"
   ]
  },
  {
   "cell_type": "code",
   "execution_count": null,
   "metadata": {
    "id": "PG15Tr-8tfni"
   },
   "outputs": [],
   "source": [
    "class Car:\n",
    "    def __init__(self, name, color, age):\n",
    "        self.name = name\n",
    "        self.color = color\n",
    "        self.age = age\n",
    "\n",
    "car1 = Car(\"Audi\", \"Black\", 5)\n",
    "print(car1.name)\n",
    "print(car1.color)\n",
    "print(car1.age)"
   ]
  },
  {
   "cell_type": "markdown",
   "metadata": {
    "id": "T4VSxkHzuaDa"
   },
   "source": [
    "# <font color='red'> **Solve these problems with python**:<br>\n",
    "<a href='https://www.hackerrank.com/challenges/python-string-split-and-join/problem'> **problem 1**\n",
    "    <br>\n",
    "    <br>\n",
    "<a href='https://www.hackerrank.com/challenges/py-if-else/problem'> **problem 2**\n",
    "<br>\n",
    "<br>\n",
    "<a href='https://codeforces.com/group/MWSDmqGsZm/contest/219158/problem/Y'> **problem 3**\n",
    "    <br>\n",
    "    <br>\n",
    "<a href='https://www.hackerrank.com/challenges/list-comprehensions/problem'> **problem 4** <font color='cyan'> BONUS\n",
    "    <br>\n",
    "    <br>\n",
    "<a href='https://www.hackerrank.com/challenges/swap-case/problem'> **problem 5** <font color='cyan'> BONUS\n",
    "    <br>\n",
    "    <br>\n",
    "<a href='https://codeforces.com/group/MWSDmqGsZm/contest/219158/problem/X'> **problem 6** <font color='cyan'> BONUS\n",
    "    <br>\n"
   ]
  },
  {
   "cell_type": "code",
   "execution_count": null,
   "metadata": {
    "colab": {
     "base_uri": "https://localhost:8080/"
    },
    "executionInfo": {
     "elapsed": 14304,
     "status": "ok",
     "timestamp": 1687090658253,
     "user": {
      "displayName": "Ahmed Ashraf",
      "userId": "01872334121619413949"
     },
     "user_tz": -180
    },
    "id": "WfsduVL1vqsP",
    "outputId": "728a36df-2578-41ab-f0d2-d25574d0d125"
   },
   "outputs": [
    {
     "name": "stdout",
     "output_type": "stream",
     "text": [
      "this is a string\n",
      "this-is-a-string\n"
     ]
    }
   ],
   "source": [
    "#problem 1\n",
    "def split_and_join(line):\n",
    "    line = line.split(\" \")\n",
    "    line = \"-\".join(line)\n",
    "    return line\n",
    "\n",
    "\n",
    "if __name__ == '__main__':\n",
    "    line = input()\n",
    "    result = split_and_join(line)\n",
    "    print(result)"
   ]
  },
  {
   "cell_type": "code",
   "execution_count": null,
   "metadata": {
    "colab": {
     "base_uri": "https://localhost:8080/"
    },
    "executionInfo": {
     "elapsed": 2835,
     "status": "ok",
     "timestamp": 1687091159527,
     "user": {
      "displayName": "Ahmed Ashraf",
      "userId": "01872334121619413949"
     },
     "user_tz": -180
    },
    "id": "tV6DFexRvq5-",
    "outputId": "c7d063e1-0412-4e6f-bbfe-b37e60fddf55"
   },
   "outputs": [
    {
     "name": "stdout",
     "output_type": "stream",
     "text": [
      "20\n",
      "Weird\n"
     ]
    }
   ],
   "source": [
    "#problem 2\n",
    "import math\n",
    "import os\n",
    "import random\n",
    "import re\n",
    "import sys\n",
    "\n",
    "if __name__ == '__main__':\n",
    "    n = int(input().strip())\n",
    "    if n % 2 == 1 :\n",
    "        print(\"Weird\")\n",
    "    elif n % 2 == 0 and 2 < n < 5:\n",
    "        print(\"Not Weird\")\n",
    "    elif n % 2 == 0 and 6 < n <= 20:\n",
    "        print(\"Weird\")\n",
    "    elif n % 2 == 0 and n > 20:\n",
    "        print(\"Not Weird\")"
   ]
  },
  {
   "cell_type": "code",
   "execution_count": null,
   "metadata": {
    "colab": {
     "base_uri": "https://localhost:8080/"
    },
    "id": "8L9HjXVIvrB-",
    "executionInfo": {
     "status": "ok",
     "timestamp": 1688597671210,
     "user_tz": -180,
     "elapsed": 4963,
     "user": {
      "displayName": "Ahmed Ashraf",
      "userId": "01872334121619413949"
     }
    },
    "outputId": "de377174-8cfa-457e-f739-095c38cc8132"
   },
   "outputs": [
    {
     "output_type": "stream",
     "name": "stdout",
     "text": [
      "3 9 9 9\n",
      "2187\n",
      "87\n"
     ]
    }
   ],
   "source": [
    "#problem 3\n",
    "A, B, C, D = input().split()\n",
    "mult = int(A) * int(B) * int(C) * int(D)\n",
    "mults = str(mult)\n",
    "print(mults[-2]+mults[-1])"
   ]
  },
  {
   "cell_type": "code",
   "execution_count": null,
   "metadata": {
    "id": "3f6ciBn7vrOL"
   },
   "outputs": [],
   "source": [
    "#problem 4\n",
    "if __name__ == '__main__':\n",
    "    x = int(input())\n",
    "    y = int(input())\n",
    "    z = int(input())\n",
    "    n = int(input())\n",
    "\n",
    "    coordinates = [[i, j, k] for i in range(x+1) for j in range(y+1) for k in range(z+1) if (i + j + k) != n]\n",
    "\n",
    "    print(coordinates)"
   ]
  },
  {
   "cell_type": "code",
   "execution_count": null,
   "metadata": {
    "id": "VfYvejyOvrem"
   },
   "outputs": [],
   "source": [
    "#problem 5\n",
    "def swap_case(s):\n",
    "    return s.swapcase()\n",
    "\n",
    "if __name__ == '__main__':\n",
    "    s = input()\n",
    "    result = swap_case(s)\n",
    "    print(result)"
   ]
  },
  {
   "cell_type": "code",
   "execution_count": null,
   "metadata": {
    "id": "QgXXw8otvr8D"
   },
   "outputs": [],
   "source": [
    "#problem 6\n",
    "l1, r1, l2, r2 = map(int, input().split())\n",
    "\n",
    "# Calculate the boundaries of the intersection\n",
    "intersection_left = max(l1, l2)\n",
    "intersection_right = min(r1, r2)\n",
    "\n",
    "# Check if there is an intersection\n",
    "if intersection_left > intersection_right:\n",
    "    print(-1)  # No intersection\n",
    "else:\n",
    "    print(intersection_left, intersection_right)  # Print the boundaries of the intersection\n"
   ]
  }
 ],
 "metadata": {
  "colab": {
   "provenance": [
    {
     "file_id": "1N_sxUfzFwAEQmqVuOxMfaRGxFuw9DnPm",
     "timestamp": 1683563852859
    },
    {
     "file_id": "1j_qDJnGTEZ2uBqcn3d_52yRVfIpDHFzx",
     "timestamp": 1658483617816
    }
   ]
  },
  "kernelspec": {
   "display_name": "Python 3",
   "name": "python3"
  },
  "language_info": {
   "name": "python"
  }
 },
 "nbformat": 4,
 "nbformat_minor": 0
}
