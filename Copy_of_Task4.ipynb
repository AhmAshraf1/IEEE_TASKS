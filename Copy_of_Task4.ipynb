{
  "cells": [
    {
      "cell_type": "markdown",
      "id": "01b6368a",
      "metadata": {
        "id": "01b6368a"
      },
      "source": [
        "<h1 align='center'><font color='red'> Task_4\n"
      ]
    },
    {
      "cell_type": "markdown",
      "id": "ce58d89a",
      "metadata": {
        "id": "ce58d89a"
      },
      "source": [
        "1. [NumPy](#NumPy)\n",
        "1. [oop](#oop)\n",
        "3. [ProblemSolving](#ProblemSolving)\n"
      ]
    },
    {
      "cell_type": "markdown",
      "id": "b4e00004",
      "metadata": {
        "id": "b4e00004"
      },
      "source": [
        "<a id='NumPy'></a>\n",
        "<h1><font color='red'> NumPy"
      ]
    },
    {
      "cell_type": "markdown",
      "id": "47431e1d",
      "metadata": {
        "id": "47431e1d"
      },
      "source": [
        "## 1.What does NumPy stand for?"
      ]
    },
    {
      "cell_type": "markdown",
      "id": "d41a0dbf",
      "metadata": {
        "id": "d41a0dbf"
      },
      "source": [
        "\n",
        "#### A) Number Python\n",
        "#### B)Numerator Python\n",
        "#### C) Numerical Python\n",
        "#### D)There is no full form, it is a stand-alone word  \n"
      ]
    },
    {
      "cell_type": "code",
      "source": [
        "A = False #@param {type:\"boolean\"}\n",
        "B = False #@param {type:\"boolean\"}\n",
        "C = True #@param {type:\"boolean\"}\n",
        "D = False #@param {type:\"boolean\"}\n"
      ],
      "metadata": {
        "id": "zMrpHpmJ-_Il"
      },
      "id": "zMrpHpmJ-_Il",
      "execution_count": null,
      "outputs": []
    },
    {
      "cell_type": "markdown",
      "id": "25547c4f",
      "metadata": {
        "id": "25547c4f"
      },
      "source": [
        "## 2.What does the size attribute in numpy use to find?"
      ]
    },
    {
      "cell_type": "markdown",
      "id": "5d3bce4d",
      "metadata": {
        "id": "5d3bce4d"
      },
      "source": [
        "\n",
        "#### A) number of items\n",
        "#### B)shape\n",
        "#### C) date & time\n",
        "#### D)unique items\n",
        "    "
      ]
    },
    {
      "cell_type": "code",
      "source": [
        "A = False #@param {type:\"boolean\"}\n",
        "B = True #@param {type:\"boolean\"}\n",
        "C = False #@param {type:\"boolean\"}\n",
        "D = False #@param {type:\"boolean\"}"
      ],
      "metadata": {
        "id": "_zRmM_HQ_YyR"
      },
      "id": "_zRmM_HQ_YyR",
      "execution_count": null,
      "outputs": []
    },
    {
      "cell_type": "markdown",
      "id": "3280ba3a",
      "metadata": {
        "id": "3280ba3a"
      },
      "source": [
        "### 3.What is the purpose of zero() function?"
      ]
    },
    {
      "cell_type": "markdown",
      "id": "b52b7109",
      "metadata": {
        "id": "b52b7109"
      },
      "source": [
        "#### A) To create a matrix with the first row and first column as 0\n",
        "#### B) To create a matrix with diagonal elements as 0\n",
        "#### C) To create a matrix with all elements as 0\n",
        "#### D) To return an integer number 0\n"
      ]
    },
    {
      "cell_type": "code",
      "source": [
        "A = False #@param {type:\"boolean\"}\n",
        "B = False #@param {type:\"boolean\"}\n",
        "C = True #@param {type:\"boolean\"}\n",
        "D = False #@param {type:\"boolean\"}"
      ],
      "metadata": {
        "id": "-74WzwGj__cZ"
      },
      "id": "-74WzwGj__cZ",
      "execution_count": null,
      "outputs": []
    },
    {
      "cell_type": "markdown",
      "id": "3618682c",
      "metadata": {
        "id": "3618682c"
      },
      "source": [
        "<h1><font color='red'> Answer these question"
      ]
    },
    {
      "cell_type": "markdown",
      "id": "e69e4a90",
      "metadata": {
        "id": "e69e4a90"
      },
      "source": [
        "### 4- create 1D, 2D and 3D arrays in NumPy? then returns the type of the elements stored in the NumPy array."
      ]
    },
    {
      "cell_type": "code",
      "execution_count": null,
      "id": "9c191a1e",
      "metadata": {
        "id": "9c191a1e",
        "colab": {
          "base_uri": "https://localhost:8080/"
        },
        "outputId": "9a62e5ab-8516-4f5b-8d60-b88cb2b33c50"
      },
      "outputs": [
        {
          "output_type": "stream",
          "name": "stdout",
          "text": [
            "int64\n"
          ]
        }
      ],
      "source": [
        "# One-Dimensional array\n",
        "import numpy as np\n",
        "\n",
        "arr1 = np.array([1])\n",
        "print(arr1.dtype)"
      ]
    },
    {
      "cell_type": "code",
      "execution_count": null,
      "id": "94c39d76",
      "metadata": {
        "id": "94c39d76",
        "colab": {
          "base_uri": "https://localhost:8080/"
        },
        "outputId": "403bb4f1-f119-4f9e-9ee1-21f5dedfff07"
      },
      "outputs": [
        {
          "output_type": "stream",
          "name": "stdout",
          "text": [
            "int64\n"
          ]
        }
      ],
      "source": [
        "# Two-Dimensional array\n",
        "import numpy as np\n",
        "\n",
        "arr2 = np.array([[1,1],\n",
        "                 [1,1]])\n",
        "print(arr2.dtype)"
      ]
    },
    {
      "cell_type": "code",
      "execution_count": null,
      "id": "be5ef3e2",
      "metadata": {
        "id": "be5ef3e2",
        "colab": {
          "base_uri": "https://localhost:8080/"
        },
        "outputId": "81238b09-1845-4a25-e6ad-5023a8f6e5a9"
      },
      "outputs": [
        {
          "output_type": "stream",
          "name": "stdout",
          "text": [
            "int64\n"
          ]
        }
      ],
      "source": [
        "# Three-Dimensional array\n",
        "import numpy as np\n",
        "\n",
        "arr3 = np.array([[1,1,1],\n",
        "                 [1,1,1],\n",
        "                 [1,1,1]])\n",
        "\n",
        "print(arr3.dtype)"
      ]
    },
    {
      "cell_type": "markdown",
      "id": "a7846d9f",
      "metadata": {
        "id": "a7846d9f"
      },
      "source": [
        "### 5-Reverse this array [[[1,2,3,4],[4,5,6,7],[7,8,9,10]]] in two ways......"
      ]
    },
    {
      "cell_type": "code",
      "execution_count": null,
      "id": "e98b8f1a",
      "metadata": {
        "id": "e98b8f1a",
        "colab": {
          "base_uri": "https://localhost:8080/"
        },
        "outputId": "ae84f11b-dde2-446c-dbc0-050b6c9311ed"
      },
      "outputs": [
        {
          "output_type": "execute_result",
          "data": {
            "text/plain": [
              "array([[[ 1,  2,  3,  4],\n",
              "        [ 4,  5,  6,  7],\n",
              "        [ 7,  8,  9, 10]]])"
            ]
          },
          "metadata": {},
          "execution_count": 19
        }
      ],
      "source": [
        "# Method one\n",
        "import numpy as np\n",
        "\n",
        "array =  np.array([[[1,2,3,4],\n",
        "                    [4,5,6,7],\n",
        "                    [7,8,9,10]]])\n",
        "array"
      ]
    },
    {
      "cell_type": "code",
      "execution_count": null,
      "id": "48627ad8",
      "metadata": {
        "id": "48627ad8",
        "colab": {
          "base_uri": "https://localhost:8080/"
        },
        "outputId": "be054f88-ffee-4a89-9098-869a82b24db3"
      },
      "outputs": [
        {
          "output_type": "execute_result",
          "data": {
            "text/plain": [
              "array([[[ 1,  2,  3,  4],\n",
              "        [ 4,  5,  6,  7],\n",
              "        [ 7,  8,  9, 10]]])"
            ]
          },
          "metadata": {},
          "execution_count": 18
        }
      ],
      "source": [
        "from numpy.lib.twodim_base import flipud\n",
        "# Method two\n",
        "#>**hint**: use flipud function\n",
        "\n",
        "import numpy as np\n",
        "\n",
        "array =  np.array([[[1,2,3,4],\n",
        "                    [4,5,6,7],\n",
        "                    [7,8,9,10]]])\n",
        "\n",
        "np.flipud(array)"
      ]
    },
    {
      "cell_type": "markdown",
      "id": "e85f1615",
      "metadata": {
        "id": "e85f1615"
      },
      "source": [
        "## 6-Make this array as an array one dimensional"
      ]
    },
    {
      "cell_type": "code",
      "execution_count": null,
      "id": "ebb77e8a",
      "metadata": {
        "id": "ebb77e8a",
        "colab": {
          "base_uri": "https://localhost:8080/"
        },
        "outputId": "2916e073-6e68-473f-b086-ed8ea1eb61da"
      },
      "outputs": [
        {
          "output_type": "execute_result",
          "data": {
            "text/plain": [
              "array([ 1,  2,  3,  4,  4,  5,  6,  7,  7,  8,  9, 10])"
            ]
          },
          "metadata": {},
          "execution_count": 4
        }
      ],
      "source": [
        "import numpy as np\n",
        "array =  np.array([[[1,2,3,4],\n",
        "           [4,5,6,7],\n",
        "           [7,8,9,10]]])\n",
        "\n",
        "array.flatten()"
      ]
    },
    {
      "cell_type": "code",
      "execution_count": null,
      "id": "72487dda",
      "metadata": {
        "id": "72487dda"
      },
      "outputs": [],
      "source": []
    },
    {
      "cell_type": "markdown",
      "id": "bc6fd424",
      "metadata": {
        "id": "bc6fd424"
      },
      "source": [
        "## 7- Create a 3X2 integer array and Prints its attributes¶\n",
        "* Note: The element must be a type of unsigned int16. And print the following Attributes:\n",
        "\n",
        "- The shape of an array.\n",
        "- Array dimensions.\n",
        "- The Length of each element of the array in bytes"
      ]
    },
    {
      "cell_type": "code",
      "execution_count": 12,
      "id": "04f6f820",
      "metadata": {
        "id": "04f6f820",
        "colab": {
          "base_uri": "https://localhost:8080/"
        },
        "outputId": "793b33fe-8873-41f8-93fd-83fe38397a01"
      },
      "outputs": [
        {
          "output_type": "execute_result",
          "data": {
            "text/plain": [
              "(3, 2)"
            ]
          },
          "metadata": {},
          "execution_count": 12
        }
      ],
      "source": [
        "import numpy as np\n",
        "arr = np.array([[1,2],\n",
        "                [3,4],\n",
        "                [5,6]], dtype=np.int16)\n",
        "\n",
        "arr.shape"
      ]
    },
    {
      "cell_type": "markdown",
      "id": "c80d388f",
      "metadata": {
        "id": "c80d388f"
      },
      "source": [
        "### 8- Return array of odd rows and even columns from below numpy array\n",
        "\n",
        "* # Ordering the values of each Key and the print the key witht highest value.\n",
        "\n",
        "\n",
        "> **`sampleArray = numpy.array([[3 ,6, 9, 12], [15 ,18, 21, 24],\n",
        "[27 ,30, 33, 36], [39 ,42, 45, 48], [51 ,54, 57, 60]])`**\n",
        "\n",
        "\n",
        "# The output should be:\n",
        "* `expexted output :\n",
        "[[ 3  6  9 12]\n",
        " [15 18 21 24]\n",
        " [27 30 33 36]\n",
        " [39 42 45 48]\n",
        " [51 54 57 60]]`\n",
        "\n",
        "* `Printing array of odd rows and even columns\n",
        "[[ 6 12]\n",
        " [30 36]\n",
        " [54 60]]`*"
      ]
    },
    {
      "cell_type": "code",
      "source": [
        "sampleArray = np.array([[3 ,6, 9, 12],\n",
        "                        [15 ,18, 21, 24],\n",
        "                        [27 ,30, 33, 36],\n",
        "                        [39 ,42, 45, 48],\n",
        "                        [51 ,54, 57, 60]])"
      ],
      "metadata": {
        "id": "lT-8p9Ml4NT6",
        "colab": {
          "base_uri": "https://localhost:8080/"
        },
        "outputId": "9a3b61df-80d0-4e0b-83d5-50c55ad026fe"
      },
      "id": "lT-8p9Ml4NT6",
      "execution_count": 43,
      "outputs": [
        {
          "output_type": "stream",
          "name": "stdout",
          "text": [
            "[[ 3  6  9 12]\n",
            " [15 18 21 24]\n",
            " [27 30 33 36]\n",
            " [39 42 45 48]\n",
            " [51 54 57 60]]\n"
          ]
        }
      ]
    },
    {
      "cell_type": "markdown",
      "id": "eae73db7",
      "metadata": {
        "id": "eae73db7"
      },
      "source": [
        "## 9-How is np.mean() different from np.average() in NumPy?"
      ]
    },
    {
      "cell_type": "code",
      "execution_count": null,
      "id": "8u9uBik3OHNt",
      "metadata": {
        "id": "8u9uBik3OHNt"
      },
      "outputs": [],
      "source": [
        "np.mean()\n",
        "# Compute the arithmetic mean without considering any weights\n",
        "np.average()\n",
        "# Compute the weighted average\n",
        "\n",
        "np.mean() == np.average()\n",
        "np.mean() != np.average(weights= [])"
      ]
    },
    {
      "cell_type": "markdown",
      "id": "81a2ddc8",
      "metadata": {
        "id": "81a2ddc8"
      },
      "source": [
        "## 10-Count the frequency of a given positive value appearing in this NumPy array\n",
        "## [1, 2, 1, 3, 5, 0, 0, 0, 2, 3] ?"
      ]
    },
    {
      "cell_type": "code",
      "execution_count": 20,
      "id": "de7ee71c",
      "metadata": {
        "id": "de7ee71c",
        "colab": {
          "base_uri": "https://localhost:8080/"
        },
        "outputId": "8af36951-ef89-48b0-9f34-59fc7c955973"
      },
      "outputs": [
        {
          "output_type": "stream",
          "name": "stdout",
          "text": [
            "7\n"
          ]
        }
      ],
      "source": [
        "import numpy as np\n",
        "arr = np.array([1,2,1,3,5,0,0,0,2,3])\n",
        "freq = np.count_nonzero(arr > 0) # +ve value\n",
        "print(freq)"
      ]
    },
    {
      "cell_type": "markdown",
      "id": "dba015f1",
      "metadata": {
        "id": "dba015f1"
      },
      "source": [
        "## 11-Show how is arr[:,0] different from arr[:,[0]]"
      ]
    },
    {
      "cell_type": "code",
      "execution_count": 28,
      "id": "6fe4ab56",
      "metadata": {
        "id": "6fe4ab56",
        "colab": {
          "base_uri": "https://localhost:8080/"
        },
        "outputId": "9b79e429-f88c-4c80-ea1f-9ced6412c3ef"
      },
      "outputs": [
        {
          "output_type": "stream",
          "name": "stdout",
          "text": [
            "[1 3 5] (3,)\n"
          ]
        }
      ],
      "source": [
        "arr = np.array([[1,2],\n",
        "                [3,4],\n",
        "                [5,6]])\n",
        "\n",
        "print(arr[:,0], arr[:,0].shape)\n",
        "# 1D array row vector\n",
        "# returns first column values"
      ]
    },
    {
      "cell_type": "code",
      "execution_count": 29,
      "id": "f4694086",
      "metadata": {
        "id": "f4694086",
        "colab": {
          "base_uri": "https://localhost:8080/"
        },
        "outputId": "23858e76-a343-4f9c-d489-57a0bf52f2c7"
      },
      "outputs": [
        {
          "output_type": "stream",
          "name": "stdout",
          "text": [
            "[[1]\n",
            " [3]\n",
            " [5]] (3, 1)\n"
          ]
        }
      ],
      "source": [
        "print(arr[:,[0]],arr[:,[0]].shape)\n",
        "# 2D array 3 rows and 1 column\n",
        "# returns first column values as each value is row"
      ]
    },
    {
      "cell_type": "markdown",
      "id": "6fe6ca1b",
      "metadata": {
        "id": "6fe6ca1b"
      },
      "source": [
        "### 12-How do you multiply these 2 NumPy array matrices [[15,16,17],[18,19,20],[21,22,23]]  &  [[20,21,22],[23,24,25],[26,27,28]] ?"
      ]
    },
    {
      "cell_type": "code",
      "execution_count": 15,
      "id": "7500d7e4",
      "metadata": {
        "id": "7500d7e4"
      },
      "outputs": [],
      "source": [
        "import numpy as np\n",
        "arr1 = np.array([[15,16,17],\n",
        "                 [18,19,20],\n",
        "                 [21,22,23]])"
      ]
    },
    {
      "cell_type": "code",
      "execution_count": 5,
      "id": "f9f6a9c3",
      "metadata": {
        "id": "f9f6a9c3"
      },
      "outputs": [],
      "source": [
        "arr2 = np.array([[20,21,22],\n",
        "                 [23,24,25],\n",
        "                 [26,27,28]])"
      ]
    },
    {
      "cell_type": "code",
      "execution_count": 6,
      "id": "29c487c4",
      "metadata": {
        "id": "29c487c4",
        "colab": {
          "base_uri": "https://localhost:8080/"
        },
        "outputId": "e206d094-55d1-404e-ec9e-6814365f91e6"
      },
      "outputs": [
        {
          "output_type": "execute_result",
          "data": {
            "text/plain": [
              "array([[300, 336, 374],\n",
              "       [414, 456, 500],\n",
              "       [546, 594, 644]])"
            ]
          },
          "metadata": {},
          "execution_count": 6
        }
      ],
      "source": [
        "multi_arr = arr1 * arr2\n",
        "multi_arr"
      ]
    },
    {
      "cell_type": "markdown",
      "id": "87e4e530",
      "metadata": {
        "id": "87e4e530"
      },
      "source": [
        "### 13 -Combine these 2 NumPy arrays [1,2,3] & [4,5,6] using vstack()     and hstack()"
      ]
    },
    {
      "cell_type": "code",
      "execution_count": 17,
      "id": "8556f467",
      "metadata": {
        "id": "8556f467",
        "colab": {
          "base_uri": "https://localhost:8080/"
        },
        "outputId": "ff4b8f69-696c-4ed8-db47-697d5df1eaca"
      },
      "outputs": [
        {
          "output_type": "execute_result",
          "data": {
            "text/plain": [
              "array([[1, 2, 3],\n",
              "       [4, 5, 6]])"
            ]
          },
          "metadata": {},
          "execution_count": 17
        }
      ],
      "source": [
        "import numpy as np\n",
        "arr1 = np.array([1,2,3])\n",
        "arr2 = np.array([4,5,6])\n",
        "\n",
        "np.vstack((arr1, arr2))"
      ]
    },
    {
      "cell_type": "code",
      "source": [
        "np.hstack((arr1, arr2))"
      ],
      "metadata": {
        "colab": {
          "base_uri": "https://localhost:8080/"
        },
        "id": "D_rJjl-GnVr6",
        "outputId": "71e8aa4a-7f1e-4e7a-8cb5-fa560f5d3d4c"
      },
      "id": "D_rJjl-GnVr6",
      "execution_count": 18,
      "outputs": [
        {
          "output_type": "execute_result",
          "data": {
            "text/plain": [
              "array([1, 2, 3, 4, 5, 6])"
            ]
          },
          "metadata": {},
          "execution_count": 18
        }
      ]
    },
    {
      "cell_type": "markdown",
      "id": "6d99f57e",
      "metadata": {
        "id": "6d99f57e"
      },
      "source": [
        "# <a id='oop'></a>\n",
        "<h1><font color='red'> oop"
      ]
    },
    {
      "cell_type": "markdown",
      "id": "d09ebaa6",
      "metadata": {
        "id": "d09ebaa6"
      },
      "source": [
        "# 1 - a \"class\" is ... </font>\n",
        "\n",
        "<br> </br>\n",
        "#### A) an instance variable\n",
        "#### B) a code template for creating object\n",
        "#### C) a function in python\n",
        "#### D) a synonym for methods"
      ]
    },
    {
      "cell_type": "code",
      "execution_count": null,
      "id": "dd8d79b8",
      "metadata": {
        "id": "dd8d79b8"
      },
      "outputs": [],
      "source": [
        "A = False #@param {type:\"boolean\"}\n",
        "B = True #@param {type:\"boolean\"}\n",
        "C = False #@param {type:\"boolean\"}\n",
        "D = False #@param {type:\"boolean\"}\n"
      ]
    },
    {
      "cell_type": "markdown",
      "id": "94da8748",
      "metadata": {
        "id": "94da8748"
      },
      "source": [
        "# 2- What is a \"docstring\" ?</font>\n",
        "<br> </br>\n",
        "#### A) it is a sting literal specified in source code that is used to explain or document a specific segment of code\n",
        "#### B) it is a class method that allows working with string documents\n",
        "#### C) it is an alternative name for instance vaeiables of type string apprearing in classes\n",
        "#### D) it is a synonym for code comments"
      ]
    },
    {
      "cell_type": "code",
      "execution_count": null,
      "id": "b3e6804e",
      "metadata": {
        "id": "b3e6804e"
      },
      "outputs": [],
      "source": [
        "A = True #@param {type:\"boolean\"}\n",
        "B = False #@param {type:\"boolean\"}\n",
        "C = False #@param {type:\"boolean\"}\n",
        "D = False #@param {type:\"boolean\"}\n"
      ]
    },
    {
      "cell_type": "markdown",
      "id": "0d792965",
      "metadata": {
        "id": "0d792965"
      },
      "source": [
        "## 3- Create a Bus class that inherits from the Vehicle class. Give the capacity argument of Bus.seating_capacity() a default value of 50.\n",
        "- Use the following code for your parent Vehicle class:.\n",
        ">   class Vehicle:\n",
        "    def __init__(self, name, max_speed, mileage):\n",
        "        self.name = name\n",
        "        self.max_speed = max_speed\n",
        "        self.mileage = mileage\n",
        "    def seating_capacity(self, capacity):\n",
        "        return f\"The seating capacity of a {self.name} is {capacity} passengers\n"
      ]
    },
    {
      "cell_type": "code",
      "execution_count": 23,
      "id": "ca64451c",
      "metadata": {
        "id": "ca64451c",
        "colab": {
          "base_uri": "https://localhost:8080/"
        },
        "outputId": "aaef0e01-33ff-4240-f4df-3196b8059dad"
      },
      "outputs": [
        {
          "output_type": "stream",
          "name": "stdout",
          "text": [
            "The seating capacity of a Mercedes is 50 passengers\n"
          ]
        }
      ],
      "source": [
        "class Vehicle:\n",
        "  def __init__(self, name, max_speed, mileage):\n",
        "    self.name= name\n",
        "    self.max_speed = max_speed\n",
        "    self.mileage = mileage\n",
        "\n",
        "  def seating_capacity(self, capacity):\n",
        "    return f\"The seating capacity of a {self.name} is {capacity} passengers\"\n",
        "\n",
        "class Bus(Vehicle):\n",
        "  def seating_capacity(self, capacity = 50):\n",
        "    return f\"The seating capacity of a {self.name} is {capacity} passengers\"\n",
        "\n",
        "bus1 = Bus(\"Mercedes\", 130 , 12)\n",
        "\n",
        "print(bus1.seating_capacity())"
      ]
    },
    {
      "cell_type": "code",
      "execution_count": null,
      "id": "238fb7cc",
      "metadata": {
        "id": "238fb7cc"
      },
      "outputs": [],
      "source": []
    },
    {
      "cell_type": "markdown",
      "id": "DKUWVq49LxBa",
      "metadata": {
        "id": "DKUWVq49LxBa"
      },
      "source": [
        "# <a id='ProblemSolving'></a>\n",
        "<h1><font color='red'>Problem Solving\n"
      ]
    },
    {
      "cell_type": "markdown",
      "id": "MwvD232bMq32",
      "metadata": {
        "id": "MwvD232bMq32"
      },
      "source": [
        "<a href='https://codeforces.com/problemset/problem/339/A'> **problem 1**"
      ]
    },
    {
      "cell_type": "code",
      "execution_count": 57,
      "id": "I5krJ01gLxBh",
      "metadata": {
        "id": "I5krJ01gLxBh",
        "colab": {
          "base_uri": "https://localhost:8080/"
        },
        "outputId": "722e4f1e-bbe0-4e34-ae6a-b8fa622c7043"
      },
      "outputs": [
        {
          "output_type": "stream",
          "name": "stdout",
          "text": [
            "1+1+3+1+3\n",
            "1+1+1+3+3\n"
          ]
        }
      ],
      "source": [
        "# Problem_1 Link:\n",
        "s = input()\n",
        "\n",
        "sum_s = s.split(\"+\")\n",
        "# print(sum_s)\n",
        "\n",
        "sorted_sum_s = sorted(map(int,sum_s))\n",
        "# print(sorted_sum_s)\n",
        "\n",
        "req_s = \"+\".join(map(str,sorted_sum_s))\n",
        "print(req_s)"
      ]
    },
    {
      "cell_type": "markdown",
      "id": "DatcMQ4EM3Hb",
      "metadata": {
        "id": "DatcMQ4EM3Hb"
      },
      "source": [
        "<a href='https://codeforces.com/problemset/problem/118/A'> **problem 2**"
      ]
    },
    {
      "cell_type": "code",
      "execution_count": 47,
      "id": "bR2YKH5fLxBh",
      "metadata": {
        "id": "bR2YKH5fLxBh",
        "colab": {
          "base_uri": "https://localhost:8080/"
        },
        "outputId": "9dcc8b3c-4af9-4bcb-9f23-042cec46d823"
      },
      "outputs": [
        {
          "output_type": "stream",
          "name": "stdout",
          "text": [
            "Codeforces\n",
            ".c.d.f.r.c.s"
          ]
        }
      ],
      "source": [
        "# Problem_2 Link:\n",
        "s = input()\n",
        "\n",
        "s = s.lower()\n",
        "vowels = [\"A\", \"O\", \"Y\", \"E\", \"U\", \"I\",\"a\",\"o\",\"y\",\"e\",\"u\",\"i\"]\n",
        "\n",
        "for i in range(len(s)):\n",
        "    if s[i] not in vowels:\n",
        "        print(\".\"+ s[i], end=\"\")\n",
        "\n"
      ]
    },
    {
      "cell_type": "code",
      "source": [],
      "metadata": {
        "id": "k6ZME2wCDDv3"
      },
      "id": "k6ZME2wCDDv3",
      "execution_count": null,
      "outputs": []
    }
  ],
  "metadata": {
    "colab": {
      "provenance": []
    },
    "kernelspec": {
      "display_name": "Python 3",
      "language": "python",
      "name": "python3"
    },
    "language_info": {
      "codemirror_mode": {
        "name": "ipython",
        "version": 3
      },
      "file_extension": ".py",
      "mimetype": "text/x-python",
      "name": "python",
      "nbconvert_exporter": "python",
      "pygments_lexer": "ipython3",
      "version": "3.8.8"
    }
  },
  "nbformat": 4,
  "nbformat_minor": 5
}